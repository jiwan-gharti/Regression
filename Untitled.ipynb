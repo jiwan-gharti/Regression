{
 "cells": [
  {
   "cell_type": "code",
   "execution_count": 1,
   "metadata": {},
   "outputs": [],
   "source": [
    "import pandas as pd"
   ]
  },
  {
   "cell_type": "code",
   "execution_count": 5,
   "metadata": {},
   "outputs": [],
   "source": [
    "#importing the Dataset \n",
    "train_dataset = pd.read_csv(\"simple_linear_train.csv\")\n",
    "test_dataset = pd.read_csv(\"simple_linear_test.csv\")"
   ]
  },
  {
   "cell_type": "code",
   "execution_count": 6,
   "metadata": {},
   "outputs": [
    {
     "data": {
      "text/html": [
       "<div>\n",
       "<style scoped>\n",
       "    .dataframe tbody tr th:only-of-type {\n",
       "        vertical-align: middle;\n",
       "    }\n",
       "\n",
       "    .dataframe tbody tr th {\n",
       "        vertical-align: top;\n",
       "    }\n",
       "\n",
       "    .dataframe thead th {\n",
       "        text-align: right;\n",
       "    }\n",
       "</style>\n",
       "<table border=\"1\" class=\"dataframe\">\n",
       "  <thead>\n",
       "    <tr style=\"text-align: right;\">\n",
       "      <th></th>\n",
       "      <th>x</th>\n",
       "      <th>y</th>\n",
       "    </tr>\n",
       "  </thead>\n",
       "  <tbody>\n",
       "    <tr>\n",
       "      <th>0</th>\n",
       "      <td>24.0</td>\n",
       "      <td>21.549452</td>\n",
       "    </tr>\n",
       "    <tr>\n",
       "      <th>1</th>\n",
       "      <td>50.0</td>\n",
       "      <td>47.464463</td>\n",
       "    </tr>\n",
       "    <tr>\n",
       "      <th>2</th>\n",
       "      <td>15.0</td>\n",
       "      <td>17.218656</td>\n",
       "    </tr>\n",
       "    <tr>\n",
       "      <th>3</th>\n",
       "      <td>38.0</td>\n",
       "      <td>36.586398</td>\n",
       "    </tr>\n",
       "    <tr>\n",
       "      <th>4</th>\n",
       "      <td>87.0</td>\n",
       "      <td>87.288984</td>\n",
       "    </tr>\n",
       "  </tbody>\n",
       "</table>\n",
       "</div>"
      ],
      "text/plain": [
       "      x          y\n",
       "0  24.0  21.549452\n",
       "1  50.0  47.464463\n",
       "2  15.0  17.218656\n",
       "3  38.0  36.586398\n",
       "4  87.0  87.288984"
      ]
     },
     "execution_count": 6,
     "metadata": {},
     "output_type": "execute_result"
    }
   ],
   "source": [
    "train_dataset.head()"
   ]
  },
  {
   "cell_type": "code",
   "execution_count": 9,
   "metadata": {},
   "outputs": [
    {
     "name": "stdout",
     "output_type": "stream",
     "text": [
      "<class 'pandas.core.frame.DataFrame'>\n",
      "RangeIndex: 700 entries, 0 to 699\n",
      "Data columns (total 2 columns):\n",
      " #   Column  Non-Null Count  Dtype  \n",
      "---  ------  --------------  -----  \n",
      " 0   x       700 non-null    float64\n",
      " 1   y       699 non-null    float64\n",
      "dtypes: float64(2)\n",
      "memory usage: 11.1 KB\n"
     ]
    }
   ],
   "source": [
    "train_dataset.info()"
   ]
  },
  {
   "cell_type": "code",
   "execution_count": 73,
   "metadata": {},
   "outputs": [
    {
     "data": {
      "text/plain": [
       "x    0\n",
       "y    1\n",
       "dtype: int64"
      ]
     },
     "execution_count": 73,
     "metadata": {},
     "output_type": "execute_result"
    }
   ],
   "source": [
    "train_dataset.isnull().sum()"
   ]
  },
  {
   "cell_type": "code",
   "execution_count": 74,
   "metadata": {},
   "outputs": [],
   "source": [
    "train_dataset.dropna(inplace=True)"
   ]
  },
  {
   "cell_type": "code",
   "execution_count": 75,
   "metadata": {},
   "outputs": [
    {
     "data": {
      "text/html": [
       "<div>\n",
       "<style scoped>\n",
       "    .dataframe tbody tr th:only-of-type {\n",
       "        vertical-align: middle;\n",
       "    }\n",
       "\n",
       "    .dataframe tbody tr th {\n",
       "        vertical-align: top;\n",
       "    }\n",
       "\n",
       "    .dataframe thead th {\n",
       "        text-align: right;\n",
       "    }\n",
       "</style>\n",
       "<table border=\"1\" class=\"dataframe\">\n",
       "  <thead>\n",
       "    <tr style=\"text-align: right;\">\n",
       "      <th></th>\n",
       "      <th>x</th>\n",
       "      <th>y</th>\n",
       "    </tr>\n",
       "  </thead>\n",
       "  <tbody>\n",
       "    <tr>\n",
       "      <th>count</th>\n",
       "      <td>699.000000</td>\n",
       "      <td>699.000000</td>\n",
       "    </tr>\n",
       "    <tr>\n",
       "      <th>mean</th>\n",
       "      <td>50.014306</td>\n",
       "      <td>49.939869</td>\n",
       "    </tr>\n",
       "    <tr>\n",
       "      <th>std</th>\n",
       "      <td>28.954560</td>\n",
       "      <td>29.109217</td>\n",
       "    </tr>\n",
       "    <tr>\n",
       "      <th>min</th>\n",
       "      <td>0.000000</td>\n",
       "      <td>-3.839981</td>\n",
       "    </tr>\n",
       "    <tr>\n",
       "      <th>25%</th>\n",
       "      <td>25.000000</td>\n",
       "      <td>24.929968</td>\n",
       "    </tr>\n",
       "    <tr>\n",
       "      <th>50%</th>\n",
       "      <td>49.000000</td>\n",
       "      <td>48.973020</td>\n",
       "    </tr>\n",
       "    <tr>\n",
       "      <th>75%</th>\n",
       "      <td>75.000000</td>\n",
       "      <td>74.929911</td>\n",
       "    </tr>\n",
       "    <tr>\n",
       "      <th>max</th>\n",
       "      <td>100.000000</td>\n",
       "      <td>108.871618</td>\n",
       "    </tr>\n",
       "  </tbody>\n",
       "</table>\n",
       "</div>"
      ],
      "text/plain": [
       "                x           y\n",
       "count  699.000000  699.000000\n",
       "mean    50.014306   49.939869\n",
       "std     28.954560   29.109217\n",
       "min      0.000000   -3.839981\n",
       "25%     25.000000   24.929968\n",
       "50%     49.000000   48.973020\n",
       "75%     75.000000   74.929911\n",
       "max    100.000000  108.871618"
      ]
     },
     "execution_count": 75,
     "metadata": {},
     "output_type": "execute_result"
    }
   ],
   "source": [
    "train_dataset.describe()"
   ]
  },
  {
   "cell_type": "code",
   "execution_count": 76,
   "metadata": {},
   "outputs": [
    {
     "data": {
      "text/html": [
       "<div>\n",
       "<style scoped>\n",
       "    .dataframe tbody tr th:only-of-type {\n",
       "        vertical-align: middle;\n",
       "    }\n",
       "\n",
       "    .dataframe tbody tr th {\n",
       "        vertical-align: top;\n",
       "    }\n",
       "\n",
       "    .dataframe thead th {\n",
       "        text-align: right;\n",
       "    }\n",
       "</style>\n",
       "<table border=\"1\" class=\"dataframe\">\n",
       "  <thead>\n",
       "    <tr style=\"text-align: right;\">\n",
       "      <th></th>\n",
       "      <th>x</th>\n",
       "      <th>y</th>\n",
       "    </tr>\n",
       "  </thead>\n",
       "  <tbody>\n",
       "    <tr>\n",
       "      <th>x</th>\n",
       "      <td>1.00000</td>\n",
       "      <td>0.99534</td>\n",
       "    </tr>\n",
       "    <tr>\n",
       "      <th>y</th>\n",
       "      <td>0.99534</td>\n",
       "      <td>1.00000</td>\n",
       "    </tr>\n",
       "  </tbody>\n",
       "</table>\n",
       "</div>"
      ],
      "text/plain": [
       "         x        y\n",
       "x  1.00000  0.99534\n",
       "y  0.99534  1.00000"
      ]
     },
     "execution_count": 76,
     "metadata": {},
     "output_type": "execute_result"
    }
   ],
   "source": [
    "corr = train_dataset.corr()\n",
    "corr"
   ]
  },
  {
   "cell_type": "code",
   "execution_count": 77,
   "metadata": {},
   "outputs": [],
   "source": [
    "import seaborn as sns"
   ]
  },
  {
   "cell_type": "code",
   "execution_count": 78,
   "metadata": {},
   "outputs": [
    {
     "data": {
      "text/plain": [
       "<matplotlib.axes._subplots.AxesSubplot at 0x1ae597616c8>"
      ]
     },
     "execution_count": 78,
     "metadata": {},
     "output_type": "execute_result"
    },
    {
     "data": {
      "image/png": "[encoded data removed]",
      "text/plain": [
       "<Figure size 432x288 with 2 Axes>"
      ]
     },
     "metadata": {
      "needs_background": "light"
     },
     "output_type": "display_data"
    }
   ],
   "source": [
    "sns.heatmap(corr,annot=True, fmt='.4g')"
   ]
  },
  {
   "cell_type": "code",
   "execution_count": 79,
   "metadata": {},
   "outputs": [],
   "source": [
    "import matplotlib.pyplot as plt"
   ]
  },
  {
   "cell_type": "code",
   "execution_count": 80,
   "metadata": {},
   "outputs": [
    {
     "data": {
      "image/png": "[encoded data removed]",
      "text/plain": [
       "<Figure size 432x288 with 1 Axes>"
      ]
     },
     "metadata": {
      "needs_background": "light"
     },
     "output_type": "display_data"
    }
   ],
   "source": [
    "plt.plot(train_dataset.iloc[:, 0], train_dataset.iloc[:, 1], 'go')\n",
    "plt.xlabel('x')\n",
    "plt.ylabel('y')\n",
    "plt.show()"
   ]
  },
  {
   "cell_type": "code",
   "execution_count": 81,
   "metadata": {},
   "outputs": [],
   "source": [
    "#splitting the dataset\n",
    "from sklearn.model_selection import train_test_split "
   ]
  },
  {
   "cell_type": "code",
   "execution_count": 82,
   "metadata": {},
   "outputs": [],
   "source": [
    "x_train, x_test, y_train, y_test = train_test_split(train_dataset.iloc[:, 0], train_dataset.iloc[:, 1], random_state = 3)"
   ]
  },
  {
   "cell_type": "code",
   "execution_count": 83,
   "metadata": {},
   "outputs": [
    {
     "data": {
      "text/plain": [
       "(524, 524, 175, 175)"
      ]
     },
     "execution_count": 83,
     "metadata": {},
     "output_type": "execute_result"
    }
   ],
   "source": [
    "len(x_train), len(y_train), len(x_test), len(y_test)"
   ]
  },
  {
   "cell_type": "code",
   "execution_count": 84,
   "metadata": {},
   "outputs": [
    {
     "data": {
      "text/plain": [
       "114    41.0\n",
       "592    25.0\n",
       "233    49.0\n",
       "379    32.0\n",
       "443    95.0\n",
       "Name: x, dtype: float64"
      ]
     },
     "execution_count": 84,
     "metadata": {},
     "output_type": "execute_result"
    }
   ],
   "source": [
    "x_train.head()"
   ]
  },
  {
   "cell_type": "code",
   "execution_count": 85,
   "metadata": {},
   "outputs": [
    {
     "data": {
      "text/plain": [
       "((524,), (524,))"
      ]
     },
     "execution_count": 85,
     "metadata": {},
     "output_type": "execute_result"
    }
   ],
   "source": [
    "x_train.shape, y_train.shape"
   ]
  },
  {
   "cell_type": "code",
   "execution_count": 86,
   "metadata": {},
   "outputs": [
    {
     "data": {
      "text/plain": [
       "(524, 524)"
      ]
     },
     "execution_count": 86,
     "metadata": {},
     "output_type": "execute_result"
    }
   ],
   "source": [
    "import numpy as np\n",
    "x_train = np.array(x_train).reshape((-1,1))\n",
    "y_train = np.array(y_train).reshape((-1,1))\n",
    "len(x_train), len(y_train)"
   ]
  },
  {
   "cell_type": "code",
   "execution_count": 87,
   "metadata": {},
   "outputs": [],
   "source": [
    "from sklearn.linear_model import LinearRegression"
   ]
  },
  {
   "cell_type": "code",
   "execution_count": 88,
   "metadata": {},
   "outputs": [
    {
     "data": {
      "text/plain": [
       "LinearRegression(copy_X=True, fit_intercept=True, n_jobs=None, normalize=False)"
      ]
     },
     "execution_count": 88,
     "metadata": {},
     "output_type": "execute_result"
    }
   ],
   "source": [
    "model = LinearRegression()\n",
    "model.fit(x_train,y_train)\n"
   ]
  },
  {
   "cell_type": "code",
   "execution_count": 90,
   "metadata": {},
   "outputs": [
    {
     "data": {
      "text/plain": [
       "array([[13.08639138],\n",
       "       [ 9.09350297],\n",
       "       [48.02416497],\n",
       "       [87.95304908],\n",
       "       [42.03483236],\n",
       "       [66.99038493],\n",
       "       [34.04905554],\n",
       "       [36.04549974],\n",
       "       [49.02238708],\n",
       "       [28.05972292],\n",
       "       [70.98327334],\n",
       "       [25.06505661],\n",
       "       [74.97616175],\n",
       "       [23.06861241],\n",
       "       [88.95127119],\n",
       "       [89.94949329],\n",
       "       [ 5.10061456],\n",
       "       [11.08994717],\n",
       "       [70.98327334],\n",
       "       [64.99394072],\n",
       "       [10.09172507],\n",
       "       [97.93527011],\n",
       "       [97.93527011],\n",
       "       [20.0739461 ],\n",
       "       [59.0046081 ],\n",
       "       [70.98327334],\n",
       "       [50.02060918],\n",
       "       [96.93704801],\n",
       "       [87.95304908],\n",
       "       [65.99216282],\n",
       "       [47.02594287],\n",
       "       [32.05261133],\n",
       "       [89.94949329],\n",
       "       [84.95838278],\n",
       "       [19.07572399],\n",
       "       [48.02416497],\n",
       "       [65.99216282],\n",
       "       [51.01883128],\n",
       "       [93.9423817 ],\n",
       "       [31.05438923],\n",
       "       [67.98860703],\n",
       "       [78.96905016],\n",
       "       [25.06505661],\n",
       "       [17.07927979],\n",
       "       [ 5.10061456],\n",
       "       [55.01171969],\n",
       "       [85.95660488],\n",
       "       [25.06505661],\n",
       "       [70.98327334],\n",
       "       [16.08105769],\n",
       "       [76.97260595],\n",
       "       [18.07750189],\n",
       "       [ 8.09528086],\n",
       "       [54.01349759],\n",
       "       [21.0721682 ],\n",
       "       [92.9441596 ],\n",
       "       [ 3.10417035],\n",
       "       [27.06150082],\n",
       "       [96.93704801],\n",
       "       [51.01883128],\n",
       "       [54.01349759],\n",
       "       [46.02772077],\n",
       "       [ 2.10594825],\n",
       "       [25.06505661],\n",
       "       [56.0099418 ],\n",
       "       [62.99749652],\n",
       "       [22.0703903 ],\n",
       "       [49.02238708],\n",
       "       [72.97971754],\n",
       "       [56.0099418 ],\n",
       "       [90.94771539],\n",
       "       [ 6.09883666],\n",
       "       [44.03127656],\n",
       "       [29.05794502],\n",
       "       [61.99927441],\n",
       "       [19.07572399],\n",
       "       [78.96905016],\n",
       "       [ 9.09350297],\n",
       "       [92.9441596 ],\n",
       "       [56.0099418 ],\n",
       "       [82.96193857],\n",
       "       [46.02772077],\n",
       "       [94.9406038 ],\n",
       "       [85.95660488],\n",
       "       [38.04194395],\n",
       "       [93.9423817 ],\n",
       "       [ 3.10417035],\n",
       "       [38.04194395],\n",
       "       [13.08639138],\n",
       "       [67.98860703],\n",
       "       [66.99038493],\n",
       "       [ 5.10061456],\n",
       "       [48.02416497],\n",
       "       [80.96549437],\n",
       "       [38.04194395],\n",
       "       [50.02060918],\n",
       "       [31.05438923],\n",
       "       [46.02772077],\n",
       "       [28.05972292],\n",
       "       [95.93882591],\n",
       "       [ 7.09705876],\n",
       "       [83.96016067],\n",
       "       [88.95127119],\n",
       "       [26.06327871],\n",
       "       [ 3.10417035],\n",
       "       [55.01171969],\n",
       "       [49.02238708],\n",
       "       [41.03661026],\n",
       "       [34.04905554],\n",
       "       [89.94949329],\n",
       "       [84.95838278],\n",
       "       [19.07572399],\n",
       "       [29.05794502],\n",
       "       [31.05438923],\n",
       "       [13.08639138],\n",
       "       [16.08105769],\n",
       "       [75.97438385],\n",
       "       [80.96549437],\n",
       "       [98.93349221],\n",
       "       [44.03127656],\n",
       "       [59.0046081 ],\n",
       "       [96.93704801],\n",
       "       [90.94771539],\n",
       "       [ 0.10950404],\n",
       "       [ 8.09528086],\n",
       "       [75.97438385],\n",
       "       [59.0046081 ],\n",
       "       [ 8.09528086],\n",
       "       [ 3.10417035],\n",
       "       [89.94949329],\n",
       "       [29.05794502],\n",
       "       [ 4.10239245],\n",
       "       [67.98860703],\n",
       "       [ 0.10950404],\n",
       "       [27.06150082],\n",
       "       [29.05794502],\n",
       "       [66.99038493],\n",
       "       [17.07927979],\n",
       "       [13.08639138],\n",
       "       [30.05616712],\n",
       "       [24.06683451],\n",
       "       [69.98505123],\n",
       "       [26.06327871],\n",
       "       [73.97793965],\n",
       "       [79.96727226],\n",
       "       [ 8.09528086],\n",
       "       [42.03483236],\n",
       "       [52.01705339],\n",
       "       [69.98505123],\n",
       "       [58.006386  ],\n",
       "       [52.01705339],\n",
       "       [97.93527011],\n",
       "       [28.05972292],\n",
       "       [ 0.10950404],\n",
       "       [39.04016605],\n",
       "       [ 8.09528086],\n",
       "       [93.9423817 ],\n",
       "       [24.06683451],\n",
       "       [67.98860703],\n",
       "       [81.96371647],\n",
       "       [22.0703903 ],\n",
       "       [55.01171969],\n",
       "       [52.01705339],\n",
       "       [94.9406038 ],\n",
       "       [61.99927441],\n",
       "       [58.006386  ],\n",
       "       [47.02594287],\n",
       "       [24.06683451],\n",
       "       [20.0739461 ],\n",
       "       [87.95304908],\n",
       "       [53.01527549],\n",
       "       [19.07572399],\n",
       "       [67.98860703],\n",
       "       [ 4.10239245],\n",
       "       [99.93171432]])"
      ]
     },
     "execution_count": 90,
     "metadata": {},
     "output_type": "execute_result"
    }
   ],
   "source": [
    "predict_value =model.predict(np.array(x_test).reshape((-1,1)))\n",
    "predict_value"
   ]
  },
  {
   "cell_type": "code",
   "execution_count": 91,
   "metadata": {},
   "outputs": [
    {
     "data": {
      "text/plain": [
       "0.9897429471911833"
      ]
     },
     "execution_count": 91,
     "metadata": {},
     "output_type": "execute_result"
    }
   ],
   "source": [
    "from sklearn.metrics import r2_score\n",
    "r2_score(x_test,y_test)"
   ]
  },
  {
   "cell_type": "code",
   "execution_count": 92,
   "metadata": {},
   "outputs": [
    {
     "data": {
      "text/plain": [
       "0.9883886222259362"
      ]
     },
     "execution_count": 92,
     "metadata": {},
     "output_type": "execute_result"
    }
   ],
   "source": [
    "r2_score(test_dataset.iloc[:,0],test_dataset.iloc[:,1])"
   ]
  },
  {
   "cell_type": "code",
   "execution_count": 98,
   "metadata": {},
   "outputs": [
    {
     "data": {
      "text/plain": [
       "[<matplotlib.lines.Line2D at 0x1ae5adf4108>]"
      ]
     },
     "execution_count": 98,
     "metadata": {},
     "output_type": "execute_result"
    },
    {
     "data": {
      "image/png": "[encoded data removed]",
      "text/plain": [
       "<Figure size 432x288 with 1 Axes>"
      ]
     },
     "metadata": {
      "needs_background": "light"
     },
     "output_type": "display_data"
    }
   ],
   "source": [
    "#ploting the predict line with train value\n",
    "plt.plot(x_test, y_test, 'o')\n",
    "plt.plot(x_test, predict_value, 'r')"
   ]
  },
  {
   "cell_type": "code",
   "execution_count": null,
   "metadata": {},
   "outputs": [],
   "source": []
  }
 ],
 "metadata": {
  "kernelspec": {
   "display_name": "Python 3",
   "language": "python",
   "name": "python3"
  },
  "language_info": {
   "codemirror_mode": {
    "name": "ipython",
    "version": 3
   },
   "file_extension": ".py",
   "mimetype": "text/x-python",
   "name": "python",
   "nbconvert_exporter": "python",
   "pygments_lexer": "ipython3",
   "version": "3.7.6"
  }
 },
 "nbformat": 4,
 "nbformat_minor": 4
}
